{
 "cells": [
  {
   "cell_type": "code",
   "execution_count": 2,
   "id": "57b48a0a",
   "metadata": {},
   "outputs": [],
   "source": [
    "import torch\n",
    "import torchvision\n",
    "from torch.utils import data\n",
    "from torchvision import transforms\n",
    "from d2l import torch as d2l\n",
    "d2l.use_svg_display()"
   ]
  },
  {
   "cell_type": "code",
   "execution_count": null,
   "id": "3528c7aa",
   "metadata": {
    "scrolled": true
   },
   "outputs": [],
   "source": [
    "# 读取fashion-mnist\n",
    "trans = transforms.ToTensor()\n",
    "mnist_train = torchvision.datasets.FashionMNIST(root=\"../data\",train=True,transform=trans,download=True)\n",
    "mnist_test = torchvision.datasets.FashionMNIST(root=\"../data\",train=False,transform=trans,download=True)"
   ]
  },
  {
   "cell_type": "code",
   "execution_count": null,
   "id": "affd6ccf",
   "metadata": {},
   "outputs": [],
   "source": [
    "len(mnist_train)"
   ]
  },
  {
   "cell_type": "code",
   "execution_count": null,
   "id": "aa985921",
   "metadata": {},
   "outputs": [],
   "source": [
    "# 将数字标签和文本标签进行转换\n",
    "def get_fashion_mnist_labels(labels):\n",
    "    text_labels = ['t-shirt', 'trouser', 'pullover', 'dress', 'coat', 'sandal', \n",
    "                   'shirt', 'sneaker', 'bag', 'ankle boot']\n",
    "    return [text_labels[int(i) ]for i in labels]\n",
    "\n",
    "def show_images(imgs,num_rows,num_cols,titles=None,scale=1.5):\n",
    "    figsize = (num_cols * scale,num_rows * scale)\n",
    "    _,axes = d2l.plt.subplots(num_rows,num_cols,figsize=figsize)\n",
    "    axes = axes.flatten()\n",
    "    for i ,(ax,img) in enumerate(zip(axes,imgs)):\n",
    "        if torch.is_tensor(img):\n",
    "            ax.imshow(img.numpy())\n",
    "        else:\n",
    "            ax.imshow(img)\n",
    "        ax.axes.get_xaxis().set_visible(False)\n",
    "        ax.axes.get_yaxis().set_visible(False)\n",
    "        if titles:\n",
    "            ax.set_title(titles[i])\n",
    "    return axes\n"
   ]
  },
  {
   "cell_type": "code",
   "execution_count": null,
   "id": "f11affae",
   "metadata": {},
   "outputs": [],
   "source": [
    "X, y = next(iter(data.DataLoader(mnist_train, batch_size=18)))\n",
    "show_images(X.reshape(18, 28, 28), 2, 9, titles=get_fashion_mnist_labels(y));\n"
   ]
  },
  {
   "cell_type": "code",
   "execution_count": null,
   "id": "33826899",
   "metadata": {},
   "outputs": [],
   "source": [
    "train_iter = data.DataLoader(mnist_train, batch_size=256,shuffle=True,num_workers = 4)\n",
    "\n",
    "timer = d2l.Timer()\n",
    "for x,y in train_iter:\n",
    "    print(x.shape)\n",
    "    continue\n",
    "f'{timer.stop():.2f} sec'\n"
   ]
  },
  {
   "cell_type": "code",
   "execution_count": null,
   "id": "7c4bb36a",
   "metadata": {},
   "outputs": [],
   "source": [
    "# 整合所有数据读取组件\n",
    "def load_data_fashion_mnist(batch_size, resize=None): #@save\n",
    "    \"\"\"下载Fashion-MNIST数据集，然后将其加载到内存中\"\"\"\n",
    "    trans = [transforms.ToTensor()]\n",
    "    if resize:\n",
    "        trans.insert(0, transforms.Resize(resize))\n",
    "    trans = transforms.Compose(trans)\n",
    "    mnist_train = torchvision.datasets.FashionMNIST(root=\"../data\", train=True, transform=trans, download=True)\n",
    "    mnist_test = torchvision.datasets.FashionMNIST(root=\"../data\", train=False, transform=trans, download=True)\n",
    "    return (data.DataLoader(mnist_train, batch_size, shuffle=True,num_workers=4),\n",
    "            data.DataLoader(mnist_test, batch_size, shuffle=False,num_workers=4))\n"
   ]
  },
  {
   "cell_type": "code",
   "execution_count": null,
   "id": "2e448c20",
   "metadata": {},
   "outputs": [],
   "source": [
    "#  从零开始实现softmax回归\n",
    "import torch\n",
    "import torchvision\n",
    "from IPython import display\n",
    "from torch.utils import data\n",
    "from d2l import torch as d2l\n",
    "from torchvision import transforms\n",
    "\n",
    "\n",
    "# 读入图片，设置batch_size\n",
    "batch_size = 256\n",
    "train_iter, test_iter = load_data_fashion_mnist(batch_size)\n",
    "# for x,y in train_iter:\n",
    "#     print(x.shape, x.dtype, y.shape, y.dtype)"
   ]
  },
  {
   "cell_type": "code",
   "execution_count": null,
   "id": "487b18be",
   "metadata": {},
   "outputs": [],
   "source": [
    "#  设置权重\n",
    "\n",
    "num_inputs = 784  # 将一张28*28的图片转换为向量\n",
    "num_outputs = 10  # 网络输出维度为10类\n",
    "\n",
    "w = torch.normal(0,0.01,size = (num_inputs,num_outputs),requires_grad=True)\n",
    "b = torch.zeros(num_outputs,requires_grad=True)\n",
    "\n",
    "\n",
    "\n"
   ]
  },
  {
   "cell_type": "code",
   "execution_count": null,
   "id": "dcac04d5",
   "metadata": {},
   "outputs": [],
   "source": [
    "x = torch.tensor([[1.0,2.0,3.0],[4.0,5.0,6.0]])\n",
    "x.sum(0,keepdim=True),x.sum(1,keepdim=True)"
   ]
  },
  {
   "cell_type": "markdown",
   "id": "29af6cba",
   "metadata": {},
   "source": [
    "## softmax 计算公式\n",
    "\n",
    "$$softmax(x)_{ij} = \\frac {exp(x_{ij})}{\\sum_{k} exp(x_{ik})}$$"
   ]
  },
  {
   "cell_type": "code",
   "execution_count": null,
   "id": "f5248298",
   "metadata": {},
   "outputs": [],
   "source": [
    "# 实现softmax\n",
    "def softmax(x):\n",
    "    x_exp = torch.exp(x)\n",
    "    partition = x_exp.sum(1, keepdim=True)\n",
    "    return x_exp / partition   # 广播机制"
   ]
  },
  {
   "cell_type": "code",
   "execution_count": null,
   "id": "2342f696",
   "metadata": {},
   "outputs": [],
   "source": [
    "x = torch.normal(0,1,(2,5))\n",
    "\n",
    "x_prob = softmax(x)\n",
    "x,torch.exp(x),torch.exp(x).sum(1, keepdim=True), x_prob,x_prob.sum(1)\n"
   ]
  },
  {
   "cell_type": "code",
   "execution_count": null,
   "id": "0d311fab",
   "metadata": {},
   "outputs": [],
   "source": [
    "def net(x):\n",
    "    return softmax(torch.matmul(x.reshape((-1,w.shape[0])),w)+b)"
   ]
  },
  {
   "cell_type": "code",
   "execution_count": null,
   "id": "7ba731c0",
   "metadata": {},
   "outputs": [],
   "source": [
    "# 知识补充   \n",
    "#  y 为样本的正确标签，即标签为‘0’和‘2’。在第⼀个样本中，第⼀类是正确的预测；⽽在第⼆个样本中，第三类是正确的预测。\n",
    "# y_hat 为三个标签的预测概率\n",
    "# 然后使⽤y作为y_hat中概率的索引，我们选择第⼀个样本中第⼀个类的概率和第⼆个样本中第三个类的概率\n",
    "y = torch.tensor([0,2])\n",
    "y_hat = torch.tensor([[0.1,0.3,0.6],[0.3,0.2,0.5]])\n",
    "y_hat[[0,1],y]               #y_hat 第0和第个样本的第y个值"
   ]
  },
  {
   "cell_type": "code",
   "execution_count": null,
   "id": "15715dd8",
   "metadata": {},
   "outputs": [],
   "source": [
    "# 交叉熵损失\n",
    "def cross_entropy(y_hat, y):\n",
    "    "
   ]
  }
 ],
 "metadata": {
  "kernelspec": {
   "display_name": "Python 3 (ipykernel)",
   "language": "python",
   "name": "python3"
  },
  "language_info": {
   "codemirror_mode": {
    "name": "ipython",
    "version": 3
   },
   "file_extension": ".py",
   "mimetype": "text/x-python",
   "name": "python",
   "nbconvert_exporter": "python",
   "pygments_lexer": "ipython3",
   "version": "3.8.13"
  }
 },
 "nbformat": 4,
 "nbformat_minor": 5
}
