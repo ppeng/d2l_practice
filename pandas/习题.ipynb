{
 "cells": [
  {
   "cell_type": "code",
   "execution_count": 1,
   "metadata": {},
   "outputs": [],
   "source": [
    "import numpy as np"
   ]
  },
  {
   "cell_type": "markdown",
   "metadata": {},
   "source": [
    "## 第一章习题"
   ]
  },
  {
   "cell_type": "markdown",
   "metadata": {},
   "source": [
    "### Ex1：利用列表推导式写矩阵乘法"
   ]
  },
  {
   "cell_type": "code",
   "execution_count": 3,
   "metadata": {},
   "outputs": [
    {
     "data": {
      "text/plain": [
       "(array([[0.10958406, 0.77063955, 0.9518978 ],\n",
       "        [0.22811659, 0.12594455, 0.21852894]]),\n",
       " array([[0.22537566, 0.56884439, 0.6750117 , 0.18096601],\n",
       "        [0.09040277, 0.9782829 , 0.98823421, 0.91389511],\n",
       "        [0.58408814, 0.87292112, 0.02602173, 0.25126145]]))"
      ]
     },
     "execution_count": 3,
     "metadata": {},
     "output_type": "execute_result"
    }
   ],
   "source": [
    "# 利用列表推导式写矩阵乘法\n",
    "M1 = np.random.rand(2,3)\n",
    "M2 = np.random.rand(3,4)\n",
    "M1,M2"
   ]
  },
  {
   "cell_type": "code",
   "execution_count": 4,
   "metadata": {},
   "outputs": [],
   "source": [
    "res = np.empty((M1.shape[0],M2.shape[1]))\n",
    "for i in range(M1.shape[0]):\n",
    "    for j in range(M2.shape[1]):\n",
    "        item = 0\n",
    "        for k in range(M2.shape[0]):\n",
    "          item +=  M1[i][k] * M2[k][j]\n",
    "        res[i][j] = item\n"
   ]
  },
  {
   "cell_type": "code",
   "execution_count": 9,
   "metadata": {},
   "outputs": [
    {
     "data": {
      "text/plain": [
       "array([[0.65035775, 1.64717147, 0.86031292, 0.96328992],\n",
       "       [0.19043782, 0.44373077, 0.28413058, 0.21128935]])"
      ]
     },
     "execution_count": 9,
     "metadata": {},
     "output_type": "execute_result"
    }
   ],
   "source": [
    "res\n"
   ]
  },
  {
   "cell_type": "code",
   "execution_count": 8,
   "metadata": {},
   "outputs": [
    {
     "data": {
      "text/plain": [
       "array([[0.65035775, 1.64717147, 0.86031292, 0.96328992],\n",
       "       [0.19043782, 0.44373077, 0.28413058, 0.21128935]])"
      ]
     },
     "execution_count": 8,
     "metadata": {},
     "output_type": "execute_result"
    }
   ],
   "source": [
    "M1@M2    # 矩阵乘法"
   ]
  },
  {
   "cell_type": "code",
   "execution_count": 12,
   "metadata": {},
   "outputs": [
    {
     "ename": "SyntaxError",
     "evalue": "did you forget parentheses around the comprehension target? (985212621.py, line 12)",
     "output_type": "error",
     "traceback": [
      "\u001b[0;36m  Cell \u001b[0;32mIn[12], line 12\u001b[0;36m\u001b[0m\n\u001b[0;31m    [[i,j for i in M1] for j in M2 ]\u001b[0m\n\u001b[0m      ^\u001b[0m\n\u001b[0;31mSyntaxError\u001b[0m\u001b[0;31m:\u001b[0m did you forget parentheses around the comprehension target?\n"
     ]
    }
   ],
   "source": [
    "# 改写成列表推导式\n",
    "def my_fun1(M1,M2):\n",
    "    res = np.empty((M1.shape[0],M2.shape[1]))\n",
    "    for i in range(M1.shape[0]):\n",
    "        for j in range(M2.shape[1]):\n",
    "            item = 0\n",
    "            for k in range(M2.shape[0]):\n",
    "              item +=  M1[i][k] * M2[k][j]\n",
    "            res[i][j] = item\n",
    "\n",
    "\n"
   ]
  },
  {
   "cell_type": "code",
   "execution_count": null,
   "metadata": {},
   "outputs": [],
   "source": [
    "[sum([(i*j) for i in M1] for j in M2.T )]"
   ]
  },
  {
   "cell_type": "code",
   "execution_count": null,
   "metadata": {},
   "outputs": [],
   "source": [
    "[[sum([M1[i][k] * M2[k][j] for k in range(M1.shape[1])]) for j in range(M2.shape[1])] for i in range(M1.shape[0])]\n"
   ]
  },
  {
   "cell_type": "markdown",
   "metadata": {},
   "source": [
    "### Ex2: 计算卡方统计量"
   ]
  },
  {
   "cell_type": "code",
   "execution_count": 2,
   "metadata": {},
   "outputs": [
    {
     "data": {
      "text/plain": [
       "array([[15, 18, 19, 15, 10],\n",
       "       [10, 11, 17, 16, 19],\n",
       "       [12, 14, 15, 12, 14],\n",
       "       [12, 14, 17, 17, 19],\n",
       "       [11, 17, 10, 16, 19],\n",
       "       [19, 17, 16, 19, 11],\n",
       "       [10, 11, 18, 18, 13],\n",
       "       [19, 18, 17, 13, 16]])"
      ]
     },
     "execution_count": 2,
     "metadata": {},
     "output_type": "execute_result"
    }
   ],
   "source": [
    "np.random.seed(1)\n",
    "A = np.random.randint(10,20,(8,5))\n",
    "A"
   ]
  },
  {
   "cell_type": "code",
   "execution_count": 4,
   "metadata": {},
   "outputs": [
    {
     "data": {
      "text/plain": [
       "(array([108, 120, 129, 126, 121]),\n",
       " array([77, 73, 67, 79, 73, 82, 70, 83]),\n",
       " 604)"
      ]
     },
     "execution_count": 4,
     "metadata": {},
     "output_type": "execute_result"
    }
   ],
   "source": [
    "A.sum(0),A.sum(1), A.sum()"
   ]
  },
  {
   "cell_type": "code",
   "execution_count": 37,
   "metadata": {},
   "outputs": [
    {
     "data": {
      "text/plain": [
       "array([[77],\n",
       "       [73],\n",
       "       [67],\n",
       "       [79],\n",
       "       [73],\n",
       "       [82],\n",
       "       [70],\n",
       "       [83]])"
      ]
     },
     "execution_count": 37,
     "metadata": {},
     "output_type": "execute_result"
    }
   ],
   "source": [
    "A.sum(1).reshape(-1, 1)"
   ]
  },
  {
   "cell_type": "code",
   "execution_count": 40,
   "metadata": {},
   "outputs": [
    {
     "data": {
      "text/plain": [
       "array([[ 8316,  9240,  9933,  9702,  9317],\n",
       "       [ 7884,  8760,  9417,  9198,  8833],\n",
       "       [ 7236,  8040,  8643,  8442,  8107],\n",
       "       [ 8532,  9480, 10191,  9954,  9559],\n",
       "       [ 7884,  8760,  9417,  9198,  8833],\n",
       "       [ 8856,  9840, 10578, 10332,  9922],\n",
       "       [ 7560,  8400,  9030,  8820,  8470],\n",
       "       [ 8964,  9960, 10707, 10458, 10043]])"
      ]
     },
     "execution_count": 40,
     "metadata": {},
     "output_type": "execute_result"
    }
   ],
   "source": [
    "A.sum(0)*A.sum(1).reshape(-1, 1)"
   ]
  },
  {
   "cell_type": "code",
   "execution_count": 30,
   "metadata": {},
   "outputs": [],
   "source": [
    "B = A.sum(0)*A.sum(1).reshape(-1, 1)/A.sum()\n"
   ]
  },
  {
   "cell_type": "code",
   "execution_count": 32,
   "metadata": {},
   "outputs": [
    {
     "data": {
      "text/plain": [
       "array([[13.76821192, 15.29801325, 16.44536424, 16.06291391, 15.42549669],\n",
       "       [13.05298013, 14.50331126, 15.5910596 , 15.22847682, 14.62417219],\n",
       "       [11.98013245, 13.31125828, 14.30960265, 13.97682119, 13.42218543],\n",
       "       [14.12582781, 15.69536424, 16.87251656, 16.48013245, 15.82615894],\n",
       "       [13.05298013, 14.50331126, 15.5910596 , 15.22847682, 14.62417219],\n",
       "       [14.66225166, 16.29139073, 17.51324503, 17.10596026, 16.42715232],\n",
       "       [12.51655629, 13.90728477, 14.95033113, 14.60264901, 14.02317881],\n",
       "       [14.8410596 , 16.49006623, 17.72682119, 17.31456954, 16.62748344]])"
      ]
     },
     "execution_count": 32,
     "metadata": {},
     "output_type": "execute_result"
    }
   ],
   "source": [
    "B"
   ]
  },
  {
   "cell_type": "code",
   "execution_count": 31,
   "metadata": {},
   "outputs": [
    {
     "data": {
      "text/plain": [
       "20.1161991410316"
      ]
     },
     "execution_count": 31,
     "metadata": {},
     "output_type": "execute_result"
    }
   ],
   "source": [
    "((A-B)**2/B).sum()"
   ]
  },
  {
   "cell_type": "markdown",
   "metadata": {},
   "source": [
    "### Ex3: 月度销量情况统计"
   ]
  },
  {
   "cell_type": "code",
   "execution_count": 1,
   "metadata": {},
   "outputs": [],
   "source": [
    "import numpy as np\n",
    "np.load('data/ch1/shop')"
   ]
  },
  {
   "cell_type": "markdown",
   "metadata": {},
   "source": [
    "## 第二章习题"
   ]
  },
  {
   "cell_type": "code",
   "execution_count": 1,
   "metadata": {},
   "outputs": [],
   "source": [
    "# 口袋妖精\n",
    "import pandas as pd\n",
    "df = pd.read_csv('data/pokemon.csv')"
   ]
  },
  {
   "cell_type": "code",
   "execution_count": 3,
   "metadata": {},
   "outputs": [
    {
     "data": {
      "text/html": [
       "<div>\n",
       "<style scoped>\n",
       "    .dataframe tbody tr th:only-of-type {\n",
       "        vertical-align: middle;\n",
       "    }\n",
       "\n",
       "    .dataframe tbody tr th {\n",
       "        vertical-align: top;\n",
       "    }\n",
       "\n",
       "    .dataframe thead th {\n",
       "        text-align: right;\n",
       "    }\n",
       "</style>\n",
       "<table border=\"1\" class=\"dataframe\">\n",
       "  <thead>\n",
       "    <tr style=\"text-align: right;\">\n",
       "      <th></th>\n",
       "      <th>#</th>\n",
       "      <th>Name</th>\n",
       "      <th>Type 1</th>\n",
       "      <th>Type 2</th>\n",
       "      <th>Total</th>\n",
       "      <th>HP</th>\n",
       "      <th>Attack</th>\n",
       "      <th>Defense</th>\n",
       "      <th>Sp. Atk</th>\n",
       "      <th>Sp. Def</th>\n",
       "      <th>Speed</th>\n",
       "    </tr>\n",
       "  </thead>\n",
       "  <tbody>\n",
       "    <tr>\n",
       "      <th>0</th>\n",
       "      <td>1</td>\n",
       "      <td>Bulbasaur</td>\n",
       "      <td>Grass</td>\n",
       "      <td>Poison</td>\n",
       "      <td>318</td>\n",
       "      <td>45</td>\n",
       "      <td>49</td>\n",
       "      <td>49</td>\n",
       "      <td>65</td>\n",
       "      <td>65</td>\n",
       "      <td>45</td>\n",
       "    </tr>\n",
       "    <tr>\n",
       "      <th>1</th>\n",
       "      <td>2</td>\n",
       "      <td>Ivysaur</td>\n",
       "      <td>Grass</td>\n",
       "      <td>Poison</td>\n",
       "      <td>405</td>\n",
       "      <td>60</td>\n",
       "      <td>62</td>\n",
       "      <td>63</td>\n",
       "      <td>80</td>\n",
       "      <td>80</td>\n",
       "      <td>60</td>\n",
       "    </tr>\n",
       "    <tr>\n",
       "      <th>2</th>\n",
       "      <td>3</td>\n",
       "      <td>Venusaur</td>\n",
       "      <td>Grass</td>\n",
       "      <td>Poison</td>\n",
       "      <td>525</td>\n",
       "      <td>80</td>\n",
       "      <td>82</td>\n",
       "      <td>83</td>\n",
       "      <td>100</td>\n",
       "      <td>100</td>\n",
       "      <td>80</td>\n",
       "    </tr>\n",
       "    <tr>\n",
       "      <th>3</th>\n",
       "      <td>3</td>\n",
       "      <td>VenusaurMega Venusaur</td>\n",
       "      <td>Grass</td>\n",
       "      <td>Poison</td>\n",
       "      <td>625</td>\n",
       "      <td>80</td>\n",
       "      <td>100</td>\n",
       "      <td>123</td>\n",
       "      <td>122</td>\n",
       "      <td>120</td>\n",
       "      <td>80</td>\n",
       "    </tr>\n",
       "    <tr>\n",
       "      <th>4</th>\n",
       "      <td>4</td>\n",
       "      <td>Charmander</td>\n",
       "      <td>Fire</td>\n",
       "      <td>NaN</td>\n",
       "      <td>309</td>\n",
       "      <td>39</td>\n",
       "      <td>52</td>\n",
       "      <td>43</td>\n",
       "      <td>60</td>\n",
       "      <td>50</td>\n",
       "      <td>65</td>\n",
       "    </tr>\n",
       "    <tr>\n",
       "      <th>...</th>\n",
       "      <td>...</td>\n",
       "      <td>...</td>\n",
       "      <td>...</td>\n",
       "      <td>...</td>\n",
       "      <td>...</td>\n",
       "      <td>...</td>\n",
       "      <td>...</td>\n",
       "      <td>...</td>\n",
       "      <td>...</td>\n",
       "      <td>...</td>\n",
       "      <td>...</td>\n",
       "    </tr>\n",
       "    <tr>\n",
       "      <th>795</th>\n",
       "      <td>719</td>\n",
       "      <td>Diancie</td>\n",
       "      <td>Rock</td>\n",
       "      <td>Fairy</td>\n",
       "      <td>600</td>\n",
       "      <td>50</td>\n",
       "      <td>100</td>\n",
       "      <td>150</td>\n",
       "      <td>100</td>\n",
       "      <td>150</td>\n",
       "      <td>50</td>\n",
       "    </tr>\n",
       "    <tr>\n",
       "      <th>796</th>\n",
       "      <td>719</td>\n",
       "      <td>DiancieMega Diancie</td>\n",
       "      <td>Rock</td>\n",
       "      <td>Fairy</td>\n",
       "      <td>700</td>\n",
       "      <td>50</td>\n",
       "      <td>160</td>\n",
       "      <td>110</td>\n",
       "      <td>160</td>\n",
       "      <td>110</td>\n",
       "      <td>110</td>\n",
       "    </tr>\n",
       "    <tr>\n",
       "      <th>797</th>\n",
       "      <td>720</td>\n",
       "      <td>HoopaHoopa Confined</td>\n",
       "      <td>Psychic</td>\n",
       "      <td>Ghost</td>\n",
       "      <td>600</td>\n",
       "      <td>80</td>\n",
       "      <td>110</td>\n",
       "      <td>60</td>\n",
       "      <td>150</td>\n",
       "      <td>130</td>\n",
       "      <td>70</td>\n",
       "    </tr>\n",
       "    <tr>\n",
       "      <th>798</th>\n",
       "      <td>720</td>\n",
       "      <td>HoopaHoopa Unbound</td>\n",
       "      <td>Psychic</td>\n",
       "      <td>Dark</td>\n",
       "      <td>680</td>\n",
       "      <td>80</td>\n",
       "      <td>160</td>\n",
       "      <td>60</td>\n",
       "      <td>170</td>\n",
       "      <td>130</td>\n",
       "      <td>80</td>\n",
       "    </tr>\n",
       "    <tr>\n",
       "      <th>799</th>\n",
       "      <td>721</td>\n",
       "      <td>Volcanion</td>\n",
       "      <td>Fire</td>\n",
       "      <td>Water</td>\n",
       "      <td>600</td>\n",
       "      <td>80</td>\n",
       "      <td>110</td>\n",
       "      <td>120</td>\n",
       "      <td>130</td>\n",
       "      <td>90</td>\n",
       "      <td>70</td>\n",
       "    </tr>\n",
       "  </tbody>\n",
       "</table>\n",
       "<p>800 rows × 11 columns</p>\n",
       "</div>"
      ],
      "text/plain": [
       "       #                   Name   Type 1  Type 2  Total  HP  Attack  Defense  \\\n",
       "0      1              Bulbasaur    Grass  Poison    318  45      49       49   \n",
       "1      2                Ivysaur    Grass  Poison    405  60      62       63   \n",
       "2      3               Venusaur    Grass  Poison    525  80      82       83   \n",
       "3      3  VenusaurMega Venusaur    Grass  Poison    625  80     100      123   \n",
       "4      4             Charmander     Fire     NaN    309  39      52       43   \n",
       "..   ...                    ...      ...     ...    ...  ..     ...      ...   \n",
       "795  719                Diancie     Rock   Fairy    600  50     100      150   \n",
       "796  719    DiancieMega Diancie     Rock   Fairy    700  50     160      110   \n",
       "797  720    HoopaHoopa Confined  Psychic   Ghost    600  80     110       60   \n",
       "798  720     HoopaHoopa Unbound  Psychic    Dark    680  80     160       60   \n",
       "799  721              Volcanion     Fire   Water    600  80     110      120   \n",
       "\n",
       "     Sp. Atk  Sp. Def  Speed  \n",
       "0         65       65     45  \n",
       "1         80       80     60  \n",
       "2        100      100     80  \n",
       "3        122      120     80  \n",
       "4         60       50     65  \n",
       "..       ...      ...    ...  \n",
       "795      100      150     50  \n",
       "796      160      110    110  \n",
       "797      150      130     70  \n",
       "798      170      130     80  \n",
       "799      130       90     70  \n",
       "\n",
       "[800 rows x 11 columns]"
      ]
     },
     "execution_count": 3,
     "metadata": {},
     "output_type": "execute_result"
    }
   ],
   "source": [
    "df"
   ]
  },
  {
   "cell_type": "code",
   "execution_count": 13,
   "metadata": {},
   "outputs": [],
   "source": [
    "# 1. 对 HP, Attack, Defense, Sp. Atk, Sp. Def, Speed 进行加总，验证是否为 Total 值。\n",
    "total1 = df[df.columns[5:11]].sum(axis=1)"
   ]
  },
  {
   "cell_type": "code",
   "execution_count": 16,
   "metadata": {},
   "outputs": [],
   "source": [
    "df['Total'] = total1"
   ]
  },
  {
   "cell_type": "code",
   "execution_count": null,
   "metadata": {},
   "outputs": [],
   "source": [
    "\"\"\"\n",
    "2. 对于 # 重复的妖怪只保留第一条记录，解决以下问题：\n",
    "(a) 求第一属性的种类数量和前三多数量对应的种类\n",
    "(b) 求第一属性和第二属性的组合种类\n",
    "(c) 求尚未出现过的属性组合\n",
    "\"\"\"\n",
    "\n"
   ]
  },
  {
   "cell_type": "code",
   "execution_count": 17,
   "metadata": {},
   "outputs": [
    {
     "data": {
      "text/html": [
       "<div>\n",
       "<style scoped>\n",
       "    .dataframe tbody tr th:only-of-type {\n",
       "        vertical-align: middle;\n",
       "    }\n",
       "\n",
       "    .dataframe tbody tr th {\n",
       "        vertical-align: top;\n",
       "    }\n",
       "\n",
       "    .dataframe thead th {\n",
       "        text-align: right;\n",
       "    }\n",
       "</style>\n",
       "<table border=\"1\" class=\"dataframe\">\n",
       "  <thead>\n",
       "    <tr style=\"text-align: right;\">\n",
       "      <th></th>\n",
       "      <th>#</th>\n",
       "      <th>Name</th>\n",
       "      <th>Type 1</th>\n",
       "      <th>Type 2</th>\n",
       "      <th>Total</th>\n",
       "      <th>HP</th>\n",
       "      <th>Attack</th>\n",
       "      <th>Defense</th>\n",
       "      <th>Sp. Atk</th>\n",
       "      <th>Sp. Def</th>\n",
       "      <th>Speed</th>\n",
       "    </tr>\n",
       "  </thead>\n",
       "  <tbody>\n",
       "    <tr>\n",
       "      <th>0</th>\n",
       "      <td>1</td>\n",
       "      <td>Bulbasaur</td>\n",
       "      <td>Grass</td>\n",
       "      <td>Poison</td>\n",
       "      <td>318</td>\n",
       "      <td>45</td>\n",
       "      <td>49</td>\n",
       "      <td>49</td>\n",
       "      <td>65</td>\n",
       "      <td>65</td>\n",
       "      <td>45</td>\n",
       "    </tr>\n",
       "    <tr>\n",
       "      <th>1</th>\n",
       "      <td>2</td>\n",
       "      <td>Ivysaur</td>\n",
       "      <td>Grass</td>\n",
       "      <td>Poison</td>\n",
       "      <td>405</td>\n",
       "      <td>60</td>\n",
       "      <td>62</td>\n",
       "      <td>63</td>\n",
       "      <td>80</td>\n",
       "      <td>80</td>\n",
       "      <td>60</td>\n",
       "    </tr>\n",
       "    <tr>\n",
       "      <th>2</th>\n",
       "      <td>3</td>\n",
       "      <td>Venusaur</td>\n",
       "      <td>Grass</td>\n",
       "      <td>Poison</td>\n",
       "      <td>525</td>\n",
       "      <td>80</td>\n",
       "      <td>82</td>\n",
       "      <td>83</td>\n",
       "      <td>100</td>\n",
       "      <td>100</td>\n",
       "      <td>80</td>\n",
       "    </tr>\n",
       "    <tr>\n",
       "      <th>3</th>\n",
       "      <td>3</td>\n",
       "      <td>VenusaurMega Venusaur</td>\n",
       "      <td>Grass</td>\n",
       "      <td>Poison</td>\n",
       "      <td>625</td>\n",
       "      <td>80</td>\n",
       "      <td>100</td>\n",
       "      <td>123</td>\n",
       "      <td>122</td>\n",
       "      <td>120</td>\n",
       "      <td>80</td>\n",
       "    </tr>\n",
       "    <tr>\n",
       "      <th>4</th>\n",
       "      <td>4</td>\n",
       "      <td>Charmander</td>\n",
       "      <td>Fire</td>\n",
       "      <td>NaN</td>\n",
       "      <td>309</td>\n",
       "      <td>39</td>\n",
       "      <td>52</td>\n",
       "      <td>43</td>\n",
       "      <td>60</td>\n",
       "      <td>50</td>\n",
       "      <td>65</td>\n",
       "    </tr>\n",
       "    <tr>\n",
       "      <th>...</th>\n",
       "      <td>...</td>\n",
       "      <td>...</td>\n",
       "      <td>...</td>\n",
       "      <td>...</td>\n",
       "      <td>...</td>\n",
       "      <td>...</td>\n",
       "      <td>...</td>\n",
       "      <td>...</td>\n",
       "      <td>...</td>\n",
       "      <td>...</td>\n",
       "      <td>...</td>\n",
       "    </tr>\n",
       "    <tr>\n",
       "      <th>795</th>\n",
       "      <td>719</td>\n",
       "      <td>Diancie</td>\n",
       "      <td>Rock</td>\n",
       "      <td>Fairy</td>\n",
       "      <td>600</td>\n",
       "      <td>50</td>\n",
       "      <td>100</td>\n",
       "      <td>150</td>\n",
       "      <td>100</td>\n",
       "      <td>150</td>\n",
       "      <td>50</td>\n",
       "    </tr>\n",
       "    <tr>\n",
       "      <th>796</th>\n",
       "      <td>719</td>\n",
       "      <td>DiancieMega Diancie</td>\n",
       "      <td>Rock</td>\n",
       "      <td>Fairy</td>\n",
       "      <td>700</td>\n",
       "      <td>50</td>\n",
       "      <td>160</td>\n",
       "      <td>110</td>\n",
       "      <td>160</td>\n",
       "      <td>110</td>\n",
       "      <td>110</td>\n",
       "    </tr>\n",
       "    <tr>\n",
       "      <th>797</th>\n",
       "      <td>720</td>\n",
       "      <td>HoopaHoopa Confined</td>\n",
       "      <td>Psychic</td>\n",
       "      <td>Ghost</td>\n",
       "      <td>600</td>\n",
       "      <td>80</td>\n",
       "      <td>110</td>\n",
       "      <td>60</td>\n",
       "      <td>150</td>\n",
       "      <td>130</td>\n",
       "      <td>70</td>\n",
       "    </tr>\n",
       "    <tr>\n",
       "      <th>798</th>\n",
       "      <td>720</td>\n",
       "      <td>HoopaHoopa Unbound</td>\n",
       "      <td>Psychic</td>\n",
       "      <td>Dark</td>\n",
       "      <td>680</td>\n",
       "      <td>80</td>\n",
       "      <td>160</td>\n",
       "      <td>60</td>\n",
       "      <td>170</td>\n",
       "      <td>130</td>\n",
       "      <td>80</td>\n",
       "    </tr>\n",
       "    <tr>\n",
       "      <th>799</th>\n",
       "      <td>721</td>\n",
       "      <td>Volcanion</td>\n",
       "      <td>Fire</td>\n",
       "      <td>Water</td>\n",
       "      <td>600</td>\n",
       "      <td>80</td>\n",
       "      <td>110</td>\n",
       "      <td>120</td>\n",
       "      <td>130</td>\n",
       "      <td>90</td>\n",
       "      <td>70</td>\n",
       "    </tr>\n",
       "  </tbody>\n",
       "</table>\n",
       "<p>800 rows × 11 columns</p>\n",
       "</div>"
      ],
      "text/plain": [
       "       #                   Name   Type 1  Type 2  Total  HP  Attack  Defense  \\\n",
       "0      1              Bulbasaur    Grass  Poison    318  45      49       49   \n",
       "1      2                Ivysaur    Grass  Poison    405  60      62       63   \n",
       "2      3               Venusaur    Grass  Poison    525  80      82       83   \n",
       "3      3  VenusaurMega Venusaur    Grass  Poison    625  80     100      123   \n",
       "4      4             Charmander     Fire     NaN    309  39      52       43   \n",
       "..   ...                    ...      ...     ...    ...  ..     ...      ...   \n",
       "795  719                Diancie     Rock   Fairy    600  50     100      150   \n",
       "796  719    DiancieMega Diancie     Rock   Fairy    700  50     160      110   \n",
       "797  720    HoopaHoopa Confined  Psychic   Ghost    600  80     110       60   \n",
       "798  720     HoopaHoopa Unbound  Psychic    Dark    680  80     160       60   \n",
       "799  721              Volcanion     Fire   Water    600  80     110      120   \n",
       "\n",
       "     Sp. Atk  Sp. Def  Speed  \n",
       "0         65       65     45  \n",
       "1         80       80     60  \n",
       "2        100      100     80  \n",
       "3        122      120     80  \n",
       "4         60       50     65  \n",
       "..       ...      ...    ...  \n",
       "795      100      150     50  \n",
       "796      160      110    110  \n",
       "797      150      130     70  \n",
       "798      170      130     80  \n",
       "799      130       90     70  \n",
       "\n",
       "[800 rows x 11 columns]"
      ]
     },
     "execution_count": 17,
     "metadata": {},
     "output_type": "execute_result"
    }
   ],
   "source": [
    "df"
   ]
  },
  {
   "cell_type": "code",
   "execution_count": 18,
   "metadata": {},
   "outputs": [
    {
     "data": {
      "text/plain": [
       "479    6\n",
       "386    4\n",
       "710    4\n",
       "711    4\n",
       "646    3\n",
       "      ..\n",
       "250    1\n",
       "251    1\n",
       "252    1\n",
       "253    1\n",
       "721    1\n",
       "Name: #, Length: 721, dtype: int64"
      ]
     },
     "execution_count": 18,
     "metadata": {},
     "output_type": "execute_result"
    }
   ],
   "source": [
    "df['#'].value_counts()"
   ]
  },
  {
   "cell_type": "code",
   "execution_count": 2,
   "metadata": {},
   "outputs": [],
   "source": [
    "df2 = df.drop_duplicates(['#'])"
   ]
  },
  {
   "cell_type": "code",
   "execution_count": 3,
   "metadata": {},
   "outputs": [
    {
     "data": {
      "text/plain": [
       "#  \n",
       "1      1\n",
       "475    1\n",
       "477    1\n",
       "478    1\n",
       "479    1\n",
       "      ..\n",
       "243    1\n",
       "244    1\n",
       "245    1\n",
       "246    1\n",
       "721    1\n",
       "Length: 721, dtype: int64"
      ]
     },
     "execution_count": 3,
     "metadata": {},
     "output_type": "execute_result"
    }
   ],
   "source": [
    "df2.value_counts(['#'])"
   ]
  },
  {
   "cell_type": "code",
   "execution_count": 22,
   "metadata": {},
   "outputs": [
    {
     "data": {
      "text/html": [
       "<div>\n",
       "<style scoped>\n",
       "    .dataframe tbody tr th:only-of-type {\n",
       "        vertical-align: middle;\n",
       "    }\n",
       "\n",
       "    .dataframe tbody tr th {\n",
       "        vertical-align: top;\n",
       "    }\n",
       "\n",
       "    .dataframe thead th {\n",
       "        text-align: right;\n",
       "    }\n",
       "</style>\n",
       "<table border=\"1\" class=\"dataframe\">\n",
       "  <thead>\n",
       "    <tr style=\"text-align: right;\">\n",
       "      <th></th>\n",
       "      <th>#</th>\n",
       "      <th>Name</th>\n",
       "      <th>Type 1</th>\n",
       "      <th>Type 2</th>\n",
       "      <th>Total</th>\n",
       "      <th>HP</th>\n",
       "      <th>Attack</th>\n",
       "      <th>Defense</th>\n",
       "      <th>Sp. Atk</th>\n",
       "      <th>Sp. Def</th>\n",
       "      <th>Speed</th>\n",
       "    </tr>\n",
       "  </thead>\n",
       "  <tbody>\n",
       "    <tr>\n",
       "      <th>0</th>\n",
       "      <td>1</td>\n",
       "      <td>Bulbasaur</td>\n",
       "      <td>Grass</td>\n",
       "      <td>Poison</td>\n",
       "      <td>318</td>\n",
       "      <td>45</td>\n",
       "      <td>49</td>\n",
       "      <td>49</td>\n",
       "      <td>65</td>\n",
       "      <td>65</td>\n",
       "      <td>45</td>\n",
       "    </tr>\n",
       "    <tr>\n",
       "      <th>1</th>\n",
       "      <td>2</td>\n",
       "      <td>Ivysaur</td>\n",
       "      <td>Grass</td>\n",
       "      <td>Poison</td>\n",
       "      <td>405</td>\n",
       "      <td>60</td>\n",
       "      <td>62</td>\n",
       "      <td>63</td>\n",
       "      <td>80</td>\n",
       "      <td>80</td>\n",
       "      <td>60</td>\n",
       "    </tr>\n",
       "    <tr>\n",
       "      <th>2</th>\n",
       "      <td>3</td>\n",
       "      <td>Venusaur</td>\n",
       "      <td>Grass</td>\n",
       "      <td>Poison</td>\n",
       "      <td>525</td>\n",
       "      <td>80</td>\n",
       "      <td>82</td>\n",
       "      <td>83</td>\n",
       "      <td>100</td>\n",
       "      <td>100</td>\n",
       "      <td>80</td>\n",
       "    </tr>\n",
       "    <tr>\n",
       "      <th>4</th>\n",
       "      <td>4</td>\n",
       "      <td>Charmander</td>\n",
       "      <td>Fire</td>\n",
       "      <td>NaN</td>\n",
       "      <td>309</td>\n",
       "      <td>39</td>\n",
       "      <td>52</td>\n",
       "      <td>43</td>\n",
       "      <td>60</td>\n",
       "      <td>50</td>\n",
       "      <td>65</td>\n",
       "    </tr>\n",
       "    <tr>\n",
       "      <th>5</th>\n",
       "      <td>5</td>\n",
       "      <td>Charmeleon</td>\n",
       "      <td>Fire</td>\n",
       "      <td>NaN</td>\n",
       "      <td>405</td>\n",
       "      <td>58</td>\n",
       "      <td>64</td>\n",
       "      <td>58</td>\n",
       "      <td>80</td>\n",
       "      <td>65</td>\n",
       "      <td>80</td>\n",
       "    </tr>\n",
       "    <tr>\n",
       "      <th>...</th>\n",
       "      <td>...</td>\n",
       "      <td>...</td>\n",
       "      <td>...</td>\n",
       "      <td>...</td>\n",
       "      <td>...</td>\n",
       "      <td>...</td>\n",
       "      <td>...</td>\n",
       "      <td>...</td>\n",
       "      <td>...</td>\n",
       "      <td>...</td>\n",
       "      <td>...</td>\n",
       "    </tr>\n",
       "    <tr>\n",
       "      <th>793</th>\n",
       "      <td>717</td>\n",
       "      <td>Yveltal</td>\n",
       "      <td>Dark</td>\n",
       "      <td>Flying</td>\n",
       "      <td>680</td>\n",
       "      <td>126</td>\n",
       "      <td>131</td>\n",
       "      <td>95</td>\n",
       "      <td>131</td>\n",
       "      <td>98</td>\n",
       "      <td>99</td>\n",
       "    </tr>\n",
       "    <tr>\n",
       "      <th>794</th>\n",
       "      <td>718</td>\n",
       "      <td>Zygarde50% Forme</td>\n",
       "      <td>Dragon</td>\n",
       "      <td>Ground</td>\n",
       "      <td>600</td>\n",
       "      <td>108</td>\n",
       "      <td>100</td>\n",
       "      <td>121</td>\n",
       "      <td>81</td>\n",
       "      <td>95</td>\n",
       "      <td>95</td>\n",
       "    </tr>\n",
       "    <tr>\n",
       "      <th>795</th>\n",
       "      <td>719</td>\n",
       "      <td>Diancie</td>\n",
       "      <td>Rock</td>\n",
       "      <td>Fairy</td>\n",
       "      <td>600</td>\n",
       "      <td>50</td>\n",
       "      <td>100</td>\n",
       "      <td>150</td>\n",
       "      <td>100</td>\n",
       "      <td>150</td>\n",
       "      <td>50</td>\n",
       "    </tr>\n",
       "    <tr>\n",
       "      <th>797</th>\n",
       "      <td>720</td>\n",
       "      <td>HoopaHoopa Confined</td>\n",
       "      <td>Psychic</td>\n",
       "      <td>Ghost</td>\n",
       "      <td>600</td>\n",
       "      <td>80</td>\n",
       "      <td>110</td>\n",
       "      <td>60</td>\n",
       "      <td>150</td>\n",
       "      <td>130</td>\n",
       "      <td>70</td>\n",
       "    </tr>\n",
       "    <tr>\n",
       "      <th>799</th>\n",
       "      <td>721</td>\n",
       "      <td>Volcanion</td>\n",
       "      <td>Fire</td>\n",
       "      <td>Water</td>\n",
       "      <td>600</td>\n",
       "      <td>80</td>\n",
       "      <td>110</td>\n",
       "      <td>120</td>\n",
       "      <td>130</td>\n",
       "      <td>90</td>\n",
       "      <td>70</td>\n",
       "    </tr>\n",
       "  </tbody>\n",
       "</table>\n",
       "<p>721 rows × 11 columns</p>\n",
       "</div>"
      ],
      "text/plain": [
       "       #                 Name   Type 1  Type 2  Total   HP  Attack  Defense  \\\n",
       "0      1            Bulbasaur    Grass  Poison    318   45      49       49   \n",
       "1      2              Ivysaur    Grass  Poison    405   60      62       63   \n",
       "2      3             Venusaur    Grass  Poison    525   80      82       83   \n",
       "4      4           Charmander     Fire     NaN    309   39      52       43   \n",
       "5      5           Charmeleon     Fire     NaN    405   58      64       58   \n",
       "..   ...                  ...      ...     ...    ...  ...     ...      ...   \n",
       "793  717              Yveltal     Dark  Flying    680  126     131       95   \n",
       "794  718     Zygarde50% Forme   Dragon  Ground    600  108     100      121   \n",
       "795  719              Diancie     Rock   Fairy    600   50     100      150   \n",
       "797  720  HoopaHoopa Confined  Psychic   Ghost    600   80     110       60   \n",
       "799  721            Volcanion     Fire   Water    600   80     110      120   \n",
       "\n",
       "     Sp. Atk  Sp. Def  Speed  \n",
       "0         65       65     45  \n",
       "1         80       80     60  \n",
       "2        100      100     80  \n",
       "4         60       50     65  \n",
       "5         80       65     80  \n",
       "..       ...      ...    ...  \n",
       "793      131       98     99  \n",
       "794       81       95     95  \n",
       "795      100      150     50  \n",
       "797      150      130     70  \n",
       "799      130       90     70  \n",
       "\n",
       "[721 rows x 11 columns]"
      ]
     },
     "execution_count": 22,
     "metadata": {},
     "output_type": "execute_result"
    }
   ],
   "source": [
    "df2"
   ]
  },
  {
   "cell_type": "code",
   "execution_count": 25,
   "metadata": {},
   "outputs": [
    {
     "data": {
      "text/plain": [
       "18"
      ]
     },
     "execution_count": 25,
     "metadata": {},
     "output_type": "execute_result"
    }
   ],
   "source": [
    "# (a) 求第一属性的种类数量和前三多数量对应的种类\n",
    "df2['Type 1'].nunique()"
   ]
  },
  {
   "cell_type": "code",
   "execution_count": 28,
   "metadata": {},
   "outputs": [
    {
     "data": {
      "text/plain": [
       "Water       105\n",
       "Normal       93\n",
       "Grass        66\n",
       "Bug          63\n",
       "Fire         47\n",
       "Psychic      47\n",
       "Rock         41\n",
       "Electric     36\n",
       "Ground       30\n",
       "Poison       28\n",
       "Dark         28\n",
       "Fighting     25\n",
       "Dragon       24\n",
       "Ghost        23\n",
       "Ice          23\n",
       "Steel        22\n",
       "Fairy        17\n",
       "Flying        3\n",
       "Name: Type 1, dtype: int64"
      ]
     },
     "execution_count": 28,
     "metadata": {},
     "output_type": "execute_result"
    }
   ],
   "source": [
    "df2['Type 1'].value_counts()"
   ]
  },
  {
   "cell_type": "code",
   "execution_count": 29,
   "metadata": {},
   "outputs": [
    {
     "data": {
      "text/plain": [
       "Water     105\n",
       "Normal     93\n",
       "Grass      66\n",
       "Name: Type 1, dtype: int64"
      ]
     },
     "execution_count": 29,
     "metadata": {},
     "output_type": "execute_result"
    }
   ],
   "source": [
    "df2['Type 1'].value_counts().head(3)"
   ]
  },
  {
   "cell_type": "code",
   "execution_count": 15,
   "metadata": {},
   "outputs": [
    {
     "data": {
      "text/plain": [
       "143"
      ]
     },
     "execution_count": 15,
     "metadata": {},
     "output_type": "execute_result"
    }
   ],
   "source": [
    "# (b) 求第一属性和第二属性的组合种类\n",
    "# df2[['Type 1','Type 2']].nunique()\n",
    "attr_dup = df2.drop_duplicates(['Type 1', 'Type 2'])\n",
    "attr_dup.shape[0]"
   ]
  },
  {
   "cell_type": "code",
   "execution_count": 4,
   "metadata": {},
   "outputs": [],
   "source": [
    "# (c) 求尚未出现过的属性组合\n",
    "type1 = df2['Type 1'].unique()\n",
    "type2 = df2['Type 2'].unique()"
   ]
  },
  {
   "cell_type": "code",
   "execution_count": 5,
   "metadata": {},
   "outputs": [
    {
     "data": {
      "text/plain": [
       "(array(['Grass', 'Fire', 'Water', 'Bug', 'Normal', 'Poison', 'Electric',\n",
       "        'Ground', 'Fairy', 'Fighting', 'Psychic', 'Rock', 'Ghost', 'Ice',\n",
       "        'Dragon', 'Dark', 'Steel', 'Flying'], dtype=object),\n",
       " array(['Poison', nan, 'Flying', 'Ground', 'Fairy', 'Grass', 'Fighting',\n",
       "        'Psychic', 'Steel', 'Ice', 'Rock', 'Water', 'Electric', 'Fire',\n",
       "        'Dragon', 'Dark', 'Ghost', 'Bug', 'Normal'], dtype=object))"
      ]
     },
     "execution_count": 5,
     "metadata": {},
     "output_type": "execute_result"
    }
   ],
   "source": [
    "type1,type2"
   ]
  },
  {
   "cell_type": "code",
   "execution_count": 8,
   "metadata": {},
   "outputs": [
    {
     "data": {
      "text/plain": [
       "pandas.core.frame.DataFrame"
      ]
     },
     "execution_count": 8,
     "metadata": {},
     "output_type": "execute_result"
    }
   ],
   "source": [
    "df3 = pd.DataFrame\n",
    "df3"
   ]
  },
  {
   "cell_type": "code",
   "execution_count": 20,
   "metadata": {},
   "outputs": [
    {
     "ename": "SyntaxError",
     "evalue": "invalid syntax (48926573.py, line 1)",
     "output_type": "error",
     "traceback": [
      "\u001b[0;36m  Input \u001b[0;32mIn [20]\u001b[0;36m\u001b[0m\n\u001b[0;31m    df4 = attr_dup[['Type 1','Type 2'],index = False]\u001b[0m\n\u001b[0m                                             ^\u001b[0m\n\u001b[0;31mSyntaxError\u001b[0m\u001b[0;31m:\u001b[0m invalid syntax\n"
     ]
    }
   ],
   "source": [
    "df4 = attr_dup[['Type 1','Type 2'],index = False]\n",
    "df4"
   ]
  },
  {
   "cell_type": "code",
   "execution_count": 19,
   "metadata": {},
   "outputs": [
    {
     "data": {
      "text/plain": [
       "<bound method DataFrame.apply of       Type 1  Type 2\n",
       "0      Grass  Poison\n",
       "4       Fire     NaN\n",
       "6       Fire  Flying\n",
       "9      Water     NaN\n",
       "13       Bug     NaN\n",
       "..       ...     ...\n",
       "773     Rock   Fairy\n",
       "778    Ghost   Grass\n",
       "790   Flying  Dragon\n",
       "797  Psychic   Ghost\n",
       "799     Fire   Water\n",
       "\n",
       "[143 rows x 2 columns]>"
      ]
     },
     "execution_count": 19,
     "metadata": {},
     "output_type": "execute_result"
    }
   ],
   "source": [
    "df4.apply"
   ]
  },
  {
   "cell_type": "code",
   "execution_count": 10,
   "metadata": {},
   "outputs": [
    {
     "name": "stdout",
     "output_type": "stream",
     "text": [
      "Grass Poison\n",
      "Grass nan\n",
      "Grass Flying\n",
      "Grass Ground\n",
      "Grass Fairy\n",
      "Grass Grass\n",
      "Grass Fighting\n",
      "Grass Psychic\n",
      "Grass Steel\n",
      "Grass Ice\n",
      "Grass Rock\n",
      "Grass Water\n",
      "Grass Electric\n",
      "Grass Fire\n",
      "Grass Dragon\n",
      "Grass Dark\n",
      "Grass Ghost\n",
      "Grass Bug\n",
      "Grass Normal\n",
      "Fire Poison\n",
      "Fire nan\n",
      "Fire Flying\n",
      "Fire Ground\n",
      "Fire Fairy\n",
      "Fire Grass\n",
      "Fire Fighting\n",
      "Fire Psychic\n",
      "Fire Steel\n",
      "Fire Ice\n",
      "Fire Rock\n",
      "Fire Water\n",
      "Fire Electric\n",
      "Fire Fire\n",
      "Fire Dragon\n",
      "Fire Dark\n",
      "Fire Ghost\n",
      "Fire Bug\n",
      "Fire Normal\n",
      "Water Poison\n",
      "Water nan\n",
      "Water Flying\n",
      "Water Ground\n",
      "Water Fairy\n",
      "Water Grass\n",
      "Water Fighting\n",
      "Water Psychic\n",
      "Water Steel\n",
      "Water Ice\n",
      "Water Rock\n",
      "Water Water\n",
      "Water Electric\n",
      "Water Fire\n",
      "Water Dragon\n",
      "Water Dark\n",
      "Water Ghost\n",
      "Water Bug\n",
      "Water Normal\n",
      "Bug Poison\n",
      "Bug nan\n",
      "Bug Flying\n",
      "Bug Ground\n",
      "Bug Fairy\n",
      "Bug Grass\n",
      "Bug Fighting\n",
      "Bug Psychic\n",
      "Bug Steel\n",
      "Bug Ice\n",
      "Bug Rock\n",
      "Bug Water\n",
      "Bug Electric\n",
      "Bug Fire\n",
      "Bug Dragon\n",
      "Bug Dark\n",
      "Bug Ghost\n",
      "Bug Bug\n",
      "Bug Normal\n",
      "Normal Poison\n",
      "Normal nan\n",
      "Normal Flying\n",
      "Normal Ground\n",
      "Normal Fairy\n",
      "Normal Grass\n",
      "Normal Fighting\n",
      "Normal Psychic\n",
      "Normal Steel\n",
      "Normal Ice\n",
      "Normal Rock\n",
      "Normal Water\n",
      "Normal Electric\n",
      "Normal Fire\n",
      "Normal Dragon\n",
      "Normal Dark\n",
      "Normal Ghost\n",
      "Normal Bug\n",
      "Normal Normal\n",
      "Poison Poison\n",
      "Poison nan\n",
      "Poison Flying\n",
      "Poison Ground\n",
      "Poison Fairy\n",
      "Poison Grass\n",
      "Poison Fighting\n",
      "Poison Psychic\n",
      "Poison Steel\n",
      "Poison Ice\n",
      "Poison Rock\n",
      "Poison Water\n",
      "Poison Electric\n",
      "Poison Fire\n",
      "Poison Dragon\n",
      "Poison Dark\n",
      "Poison Ghost\n",
      "Poison Bug\n",
      "Poison Normal\n",
      "Electric Poison\n",
      "Electric nan\n",
      "Electric Flying\n",
      "Electric Ground\n",
      "Electric Fairy\n",
      "Electric Grass\n",
      "Electric Fighting\n",
      "Electric Psychic\n",
      "Electric Steel\n",
      "Electric Ice\n",
      "Electric Rock\n",
      "Electric Water\n",
      "Electric Electric\n",
      "Electric Fire\n",
      "Electric Dragon\n",
      "Electric Dark\n",
      "Electric Ghost\n",
      "Electric Bug\n",
      "Electric Normal\n",
      "Ground Poison\n",
      "Ground nan\n",
      "Ground Flying\n",
      "Ground Ground\n",
      "Ground Fairy\n",
      "Ground Grass\n",
      "Ground Fighting\n",
      "Ground Psychic\n",
      "Ground Steel\n",
      "Ground Ice\n",
      "Ground Rock\n",
      "Ground Water\n",
      "Ground Electric\n",
      "Ground Fire\n",
      "Ground Dragon\n",
      "Ground Dark\n",
      "Ground Ghost\n",
      "Ground Bug\n",
      "Ground Normal\n",
      "Fairy Poison\n",
      "Fairy nan\n",
      "Fairy Flying\n",
      "Fairy Ground\n",
      "Fairy Fairy\n",
      "Fairy Grass\n",
      "Fairy Fighting\n",
      "Fairy Psychic\n",
      "Fairy Steel\n",
      "Fairy Ice\n",
      "Fairy Rock\n",
      "Fairy Water\n",
      "Fairy Electric\n",
      "Fairy Fire\n",
      "Fairy Dragon\n",
      "Fairy Dark\n",
      "Fairy Ghost\n",
      "Fairy Bug\n",
      "Fairy Normal\n",
      "Fighting Poison\n",
      "Fighting nan\n",
      "Fighting Flying\n",
      "Fighting Ground\n",
      "Fighting Fairy\n",
      "Fighting Grass\n",
      "Fighting Fighting\n",
      "Fighting Psychic\n",
      "Fighting Steel\n",
      "Fighting Ice\n",
      "Fighting Rock\n",
      "Fighting Water\n",
      "Fighting Electric\n",
      "Fighting Fire\n",
      "Fighting Dragon\n",
      "Fighting Dark\n",
      "Fighting Ghost\n",
      "Fighting Bug\n",
      "Fighting Normal\n",
      "Psychic Poison\n",
      "Psychic nan\n",
      "Psychic Flying\n",
      "Psychic Ground\n",
      "Psychic Fairy\n",
      "Psychic Grass\n",
      "Psychic Fighting\n",
      "Psychic Psychic\n",
      "Psychic Steel\n",
      "Psychic Ice\n",
      "Psychic Rock\n",
      "Psychic Water\n",
      "Psychic Electric\n",
      "Psychic Fire\n",
      "Psychic Dragon\n",
      "Psychic Dark\n",
      "Psychic Ghost\n",
      "Psychic Bug\n",
      "Psychic Normal\n",
      "Rock Poison\n",
      "Rock nan\n",
      "Rock Flying\n",
      "Rock Ground\n",
      "Rock Fairy\n",
      "Rock Grass\n",
      "Rock Fighting\n",
      "Rock Psychic\n",
      "Rock Steel\n",
      "Rock Ice\n",
      "Rock Rock\n",
      "Rock Water\n",
      "Rock Electric\n",
      "Rock Fire\n",
      "Rock Dragon\n",
      "Rock Dark\n",
      "Rock Ghost\n",
      "Rock Bug\n",
      "Rock Normal\n",
      "Ghost Poison\n",
      "Ghost nan\n",
      "Ghost Flying\n",
      "Ghost Ground\n",
      "Ghost Fairy\n",
      "Ghost Grass\n",
      "Ghost Fighting\n",
      "Ghost Psychic\n",
      "Ghost Steel\n",
      "Ghost Ice\n",
      "Ghost Rock\n",
      "Ghost Water\n",
      "Ghost Electric\n",
      "Ghost Fire\n",
      "Ghost Dragon\n",
      "Ghost Dark\n",
      "Ghost Ghost\n",
      "Ghost Bug\n",
      "Ghost Normal\n",
      "Ice Poison\n",
      "Ice nan\n",
      "Ice Flying\n",
      "Ice Ground\n",
      "Ice Fairy\n",
      "Ice Grass\n",
      "Ice Fighting\n",
      "Ice Psychic\n",
      "Ice Steel\n",
      "Ice Ice\n",
      "Ice Rock\n",
      "Ice Water\n",
      "Ice Electric\n",
      "Ice Fire\n",
      "Ice Dragon\n",
      "Ice Dark\n",
      "Ice Ghost\n",
      "Ice Bug\n",
      "Ice Normal\n",
      "Dragon Poison\n",
      "Dragon nan\n",
      "Dragon Flying\n",
      "Dragon Ground\n",
      "Dragon Fairy\n",
      "Dragon Grass\n",
      "Dragon Fighting\n",
      "Dragon Psychic\n",
      "Dragon Steel\n",
      "Dragon Ice\n",
      "Dragon Rock\n",
      "Dragon Water\n",
      "Dragon Electric\n",
      "Dragon Fire\n",
      "Dragon Dragon\n",
      "Dragon Dark\n",
      "Dragon Ghost\n",
      "Dragon Bug\n",
      "Dragon Normal\n",
      "Dark Poison\n",
      "Dark nan\n",
      "Dark Flying\n",
      "Dark Ground\n",
      "Dark Fairy\n",
      "Dark Grass\n",
      "Dark Fighting\n",
      "Dark Psychic\n",
      "Dark Steel\n",
      "Dark Ice\n",
      "Dark Rock\n",
      "Dark Water\n",
      "Dark Electric\n",
      "Dark Fire\n",
      "Dark Dragon\n",
      "Dark Dark\n",
      "Dark Ghost\n",
      "Dark Bug\n",
      "Dark Normal\n",
      "Steel Poison\n",
      "Steel nan\n",
      "Steel Flying\n",
      "Steel Ground\n",
      "Steel Fairy\n",
      "Steel Grass\n",
      "Steel Fighting\n",
      "Steel Psychic\n",
      "Steel Steel\n",
      "Steel Ice\n",
      "Steel Rock\n",
      "Steel Water\n",
      "Steel Electric\n",
      "Steel Fire\n",
      "Steel Dragon\n",
      "Steel Dark\n",
      "Steel Ghost\n",
      "Steel Bug\n",
      "Steel Normal\n",
      "Flying Poison\n",
      "Flying nan\n",
      "Flying Flying\n",
      "Flying Ground\n",
      "Flying Fairy\n",
      "Flying Grass\n",
      "Flying Fighting\n",
      "Flying Psychic\n",
      "Flying Steel\n",
      "Flying Ice\n",
      "Flying Rock\n",
      "Flying Water\n",
      "Flying Electric\n",
      "Flying Fire\n",
      "Flying Dragon\n",
      "Flying Dark\n",
      "Flying Ghost\n",
      "Flying Bug\n",
      "Flying Normal\n"
     ]
    }
   ],
   "source": [
    "for i in type1:\n",
    "    for j in type2:\n",
    "        print(i,j)"
   ]
  },
  {
   "cell_type": "code",
   "execution_count": null,
   "metadata": {},
   "outputs": [],
   "source": []
  }
 ],
 "metadata": {
  "kernelspec": {
   "display_name": "Python 3.8.13 ('d2l')",
   "language": "python",
   "name": "python3"
  },
  "language_info": {
   "codemirror_mode": {
    "name": "ipython",
    "version": 3
   },
   "file_extension": ".py",
   "mimetype": "text/x-python",
   "name": "python",
   "nbconvert_exporter": "python",
   "pygments_lexer": "ipython3",
   "version": "3.11.3"
  },
  "orig_nbformat": 4,
  "vscode": {
   "interpreter": {
    "hash": "f88154499e0394428ebc6c609c448dc1faeb7929953aaff651811d22042d82b4"
   }
  }
 },
 "nbformat": 4,
 "nbformat_minor": 2
}
